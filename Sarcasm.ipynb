{
  "nbformat": 4,
  "nbformat_minor": 0,
  "metadata": {
    "colab": {
      "provenance": []
    },
    "kernelspec": {
      "name": "python3",
      "display_name": "Python 3"
    },
    "language_info": {
      "name": "python"
    },
    "accelerator": "GPU"
  },
  "cells": [
    {
      "cell_type": "code",
      "source": [
        "!pip install wget"
      ],
      "metadata": {
        "colab": {
          "base_uri": "https://localhost:8080/"
        },
        "id": "foOdBuAjvTQH",
        "outputId": "df67c0c1-ef8f-42bb-ab3d-775594442484"
      },
      "execution_count": 36,
      "outputs": [
        {
          "output_type": "stream",
          "name": "stdout",
          "text": [
            "Looking in indexes: https://pypi.org/simple, https://us-python.pkg.dev/colab-wheels/public/simple/\n",
            "Requirement already satisfied: wget in /usr/local/lib/python3.7/dist-packages (3.2)\n"
          ]
        }
      ]
    },
    {
      "cell_type": "code",
      "execution_count": 37,
      "metadata": {
        "colab": {
          "base_uri": "https://localhost:8080/",
          "height": 35
        },
        "id": "XyUcbIZYt0NL",
        "outputId": "8ef6ba0c-433b-4264-ca84-8ee1c6d7aa2e"
      },
      "outputs": [
        {
          "output_type": "execute_result",
          "data": {
            "text/plain": [
              "'sarcasm (1).json'"
            ],
            "application/vnd.google.colaboratory.intrinsic+json": {
              "type": "string"
            }
          },
          "metadata": {},
          "execution_count": 37
        }
      ],
      "source": [
        "import wget\n",
        "url = 'https://storage.googleapis.com/laurencemoroney-blog.appspot.com/sarcasm.json'\n",
        "wget.download(url)"
      ]
    },
    {
      "cell_type": "code",
      "source": [
        "import tensorflow as tf\n",
        "tf.test.gpu_device_name()"
      ],
      "metadata": {
        "colab": {
          "base_uri": "https://localhost:8080/",
          "height": 35
        },
        "id": "6WscltR0uTXw",
        "outputId": "6e71a347-c15a-487d-b30c-e37a14e01160"
      },
      "execution_count": 38,
      "outputs": [
        {
          "output_type": "execute_result",
          "data": {
            "text/plain": [
              "'/device:GPU:0'"
            ],
            "application/vnd.google.colaboratory.intrinsic+json": {
              "type": "string"
            }
          },
          "metadata": {},
          "execution_count": 38
        }
      ]
    },
    {
      "cell_type": "code",
      "source": [
        "import json\n",
        "import tensorflow as tf\n",
        "\n",
        "from tensorflow.keras.preprocessing.text import Tokenizer\n",
        "from tensorflow.keras.preprocessing.sequence import pad_sequences"
      ],
      "metadata": {
        "id": "uZv7csSrubr9"
      },
      "execution_count": 39,
      "outputs": []
    },
    {
      "cell_type": "code",
      "source": [
        "vocab_size = 10000\n",
        "embedding_dim = 16\n",
        "max_length = 100\n",
        "trunc_type='post'\n",
        "padding_type='post'\n",
        "oov_tok = \"<OOV>\"\n",
        "training_size = 20000"
      ],
      "metadata": {
        "id": "WnkPocnlutz0"
      },
      "execution_count": 40,
      "outputs": []
    },
    {
      "cell_type": "code",
      "source": [
        "with open(\"sarcasm.json\", 'r') as f:\n",
        "    datastore = json.load(f)"
      ],
      "metadata": {
        "id": "A8cAt9zduyaa"
      },
      "execution_count": 41,
      "outputs": []
    },
    {
      "cell_type": "code",
      "source": [
        "with open(\"sarcasm.json\", 'r') as f:\n",
        "    datastore = json.load(f)\n",
        "\n",
        "sentences = []\n",
        "labels = []\n",
        "\n",
        "for item in datastore:\n",
        "    sentences.append(item['headline'])\n",
        "    labels.append(item['is_sarcastic'])"
      ],
      "metadata": {
        "id": "GIdnGrJwu04-"
      },
      "execution_count": 42,
      "outputs": []
    },
    {
      "cell_type": "code",
      "source": [
        "training_sentences = sentences[0:training_size]\n",
        "testing_sentences = sentences[training_size:]\n",
        "training_labels = labels[0:training_size]\n",
        "testing_labels = labels[training_size:]"
      ],
      "metadata": {
        "id": "22PbwWHDvkm7"
      },
      "execution_count": 43,
      "outputs": []
    },
    {
      "cell_type": "code",
      "source": [
        "tokenizer = Tokenizer(num_words=vocab_size, oov_token=oov_tok)\n",
        "tokenizer.fit_on_texts(training_sentences)\n",
        "\n",
        "word_index = tokenizer.word_index\n",
        "\n",
        "training_sequences = tokenizer.texts_to_sequences(training_sentences)\n",
        "training_padded = pad_sequences(training_sequences, maxlen=max_length, padding=padding_type, truncating=trunc_type)\n",
        "\n",
        "testing_sequences = tokenizer.texts_to_sequences(testing_sentences)\n",
        "testing_padded = pad_sequences(testing_sequences, maxlen=max_length, padding=padding_type, truncating=trunc_type)"
      ],
      "metadata": {
        "id": "jXOgn4i2vmI9"
      },
      "execution_count": 44,
      "outputs": []
    },
    {
      "cell_type": "code",
      "source": [
        "import numpy as np\n",
        "training_padded = np.array(training_padded)\n",
        "training_labels = np.array(training_labels)\n",
        "testing_padded = np.array(testing_padded)\n",
        "testing_labels = np.array(testing_labels)"
      ],
      "metadata": {
        "id": "Hu2MjnqVvzpY"
      },
      "execution_count": 45,
      "outputs": []
    },
    {
      "cell_type": "code",
      "source": [
        "training_padded, type(training_padded)"
      ],
      "metadata": {
        "colab": {
          "base_uri": "https://localhost:8080/"
        },
        "id": "ps57nKVKvoNn",
        "outputId": "5706c784-0870-48a8-d511-99944c2329dc"
      },
      "execution_count": 46,
      "outputs": [
        {
          "output_type": "execute_result",
          "data": {
            "text/plain": [
              "(array([[ 328,    1,  799, ...,    0,    0,    0],\n",
              "        [   4, 6840, 3096, ...,    0,    0,    0],\n",
              "        [ 153,  890,    2, ...,    0,    0,    0],\n",
              "        ...,\n",
              "        [  79, 1729,    1, ...,    0,    0,    0],\n",
              "        [  53, 5108, 4735, ...,    0,    0,    0],\n",
              "        [ 312,  705,    1, ...,    0,    0,    0]], dtype=int32),\n",
              " numpy.ndarray)"
            ]
          },
          "metadata": {},
          "execution_count": 46
        }
      ]
    },
    {
      "cell_type": "code",
      "source": [
        "model = tf.keras.Sequential([\n",
        "    tf.keras.layers.Embedding(vocab_size, embedding_dim, input_length=max_length),\n",
        "    tf.keras.layers.GlobalAveragePooling1D(),\n",
        "    tf.keras.layers.Dense(24, activation='relu'),\n",
        "    tf.keras.layers.Dense(1, activation='sigmoid')\n",
        "])\n",
        "model.compile(loss='binary_crossentropy',optimizer='adam',metrics=['accuracy'])"
      ],
      "metadata": {
        "id": "-zrQhV4gvtoQ"
      },
      "execution_count": 47,
      "outputs": []
    },
    {
      "cell_type": "code",
      "source": [
        "model.summary()"
      ],
      "metadata": {
        "colab": {
          "base_uri": "https://localhost:8080/"
        },
        "id": "n5_rXiHuvvz4",
        "outputId": "4743cbdf-1025-49ee-be48-10dab629decb"
      },
      "execution_count": 48,
      "outputs": [
        {
          "output_type": "stream",
          "name": "stdout",
          "text": [
            "Model: \"sequential_1\"\n",
            "_________________________________________________________________\n",
            " Layer (type)                Output Shape              Param #   \n",
            "=================================================================\n",
            " embedding_1 (Embedding)     (None, 100, 16)           160000    \n",
            "                                                                 \n",
            " global_average_pooling1d_1   (None, 16)               0         \n",
            " (GlobalAveragePooling1D)                                        \n",
            "                                                                 \n",
            " dense_2 (Dense)             (None, 24)                408       \n",
            "                                                                 \n",
            " dense_3 (Dense)             (None, 1)                 25        \n",
            "                                                                 \n",
            "=================================================================\n",
            "Total params: 160,433\n",
            "Trainable params: 160,433\n",
            "Non-trainable params: 0\n",
            "_________________________________________________________________\n"
          ]
        }
      ]
    },
    {
      "cell_type": "code",
      "source": [
        "num_epochs = 100\n",
        "history = model.fit(training_padded, training_labels, epochs=num_epochs, validation_data=(testing_padded, testing_labels), verbose=2)"
      ],
      "metadata": {
        "colab": {
          "base_uri": "https://localhost:8080/"
        },
        "id": "7YIEeDcKvxk-",
        "outputId": "ce16c9e6-f0d8-4ece-c9aa-042bf159888b"
      },
      "execution_count": 49,
      "outputs": [
        {
          "output_type": "stream",
          "name": "stdout",
          "text": [
            "Epoch 1/100\n",
            "625/625 - 3s - loss: 0.6654 - accuracy: 0.5861 - val_loss: 0.5768 - val_accuracy: 0.6959 - 3s/epoch - 5ms/step\n",
            "Epoch 2/100\n",
            "625/625 - 4s - loss: 0.4260 - accuracy: 0.8292 - val_loss: 0.3826 - val_accuracy: 0.8399 - 4s/epoch - 6ms/step\n",
            "Epoch 3/100\n",
            "625/625 - 4s - loss: 0.3081 - accuracy: 0.8766 - val_loss: 0.3661 - val_accuracy: 0.8377 - 4s/epoch - 6ms/step\n",
            "Epoch 4/100\n",
            "625/625 - 3s - loss: 0.2564 - accuracy: 0.8997 - val_loss: 0.3420 - val_accuracy: 0.8554 - 3s/epoch - 5ms/step\n",
            "Epoch 5/100\n",
            "625/625 - 3s - loss: 0.2215 - accuracy: 0.9131 - val_loss: 0.3458 - val_accuracy: 0.8577 - 3s/epoch - 5ms/step\n",
            "Epoch 6/100\n",
            "625/625 - 2s - loss: 0.1937 - accuracy: 0.9276 - val_loss: 0.3541 - val_accuracy: 0.8520 - 2s/epoch - 3ms/step\n",
            "Epoch 7/100\n",
            "625/625 - 2s - loss: 0.1716 - accuracy: 0.9357 - val_loss: 0.3702 - val_accuracy: 0.8517 - 2s/epoch - 3ms/step\n",
            "Epoch 8/100\n",
            "625/625 - 2s - loss: 0.1549 - accuracy: 0.9434 - val_loss: 0.3795 - val_accuracy: 0.8539 - 2s/epoch - 3ms/step\n",
            "Epoch 9/100\n",
            "625/625 - 2s - loss: 0.1394 - accuracy: 0.9496 - val_loss: 0.3984 - val_accuracy: 0.8524 - 2s/epoch - 3ms/step\n",
            "Epoch 10/100\n",
            "625/625 - 2s - loss: 0.1242 - accuracy: 0.9570 - val_loss: 0.4198 - val_accuracy: 0.8490 - 2s/epoch - 3ms/step\n",
            "Epoch 11/100\n",
            "625/625 - 2s - loss: 0.1138 - accuracy: 0.9603 - val_loss: 0.4427 - val_accuracy: 0.8466 - 2s/epoch - 3ms/step\n",
            "Epoch 12/100\n",
            "625/625 - 2s - loss: 0.1037 - accuracy: 0.9643 - val_loss: 0.4711 - val_accuracy: 0.8445 - 2s/epoch - 3ms/step\n",
            "Epoch 13/100\n",
            "625/625 - 2s - loss: 0.0931 - accuracy: 0.9690 - val_loss: 0.4977 - val_accuracy: 0.8414 - 2s/epoch - 3ms/step\n",
            "Epoch 14/100\n",
            "625/625 - 2s - loss: 0.0858 - accuracy: 0.9710 - val_loss: 0.5704 - val_accuracy: 0.8286 - 2s/epoch - 3ms/step\n",
            "Epoch 15/100\n",
            "625/625 - 2s - loss: 0.0778 - accuracy: 0.9739 - val_loss: 0.5555 - val_accuracy: 0.8384 - 2s/epoch - 3ms/step\n",
            "Epoch 16/100\n",
            "625/625 - 2s - loss: 0.0702 - accuracy: 0.9779 - val_loss: 0.5905 - val_accuracy: 0.8338 - 2s/epoch - 3ms/step\n",
            "Epoch 17/100\n",
            "625/625 - 2s - loss: 0.0660 - accuracy: 0.9790 - val_loss: 0.6539 - val_accuracy: 0.8268 - 2s/epoch - 3ms/step\n",
            "Epoch 18/100\n",
            "625/625 - 2s - loss: 0.0610 - accuracy: 0.9797 - val_loss: 0.6547 - val_accuracy: 0.8296 - 2s/epoch - 3ms/step\n",
            "Epoch 19/100\n",
            "625/625 - 2s - loss: 0.0550 - accuracy: 0.9821 - val_loss: 0.6921 - val_accuracy: 0.8277 - 2s/epoch - 3ms/step\n",
            "Epoch 20/100\n",
            "625/625 - 2s - loss: 0.0503 - accuracy: 0.9841 - val_loss: 0.7345 - val_accuracy: 0.8250 - 2s/epoch - 3ms/step\n",
            "Epoch 21/100\n",
            "625/625 - 2s - loss: 0.0462 - accuracy: 0.9866 - val_loss: 0.7580 - val_accuracy: 0.8240 - 2s/epoch - 3ms/step\n",
            "Epoch 22/100\n",
            "625/625 - 2s - loss: 0.0429 - accuracy: 0.9873 - val_loss: 0.7947 - val_accuracy: 0.8231 - 2s/epoch - 3ms/step\n",
            "Epoch 23/100\n",
            "625/625 - 2s - loss: 0.0398 - accuracy: 0.9880 - val_loss: 0.8501 - val_accuracy: 0.8186 - 2s/epoch - 3ms/step\n",
            "Epoch 24/100\n",
            "625/625 - 2s - loss: 0.0354 - accuracy: 0.9901 - val_loss: 0.9317 - val_accuracy: 0.8164 - 2s/epoch - 3ms/step\n",
            "Epoch 25/100\n",
            "625/625 - 2s - loss: 0.0317 - accuracy: 0.9906 - val_loss: 0.9100 - val_accuracy: 0.8179 - 2s/epoch - 3ms/step\n",
            "Epoch 26/100\n",
            "625/625 - 2s - loss: 0.0309 - accuracy: 0.9915 - val_loss: 0.9463 - val_accuracy: 0.8192 - 2s/epoch - 3ms/step\n",
            "Epoch 27/100\n",
            "625/625 - 2s - loss: 0.0281 - accuracy: 0.9919 - val_loss: 1.0062 - val_accuracy: 0.8162 - 2s/epoch - 3ms/step\n",
            "Epoch 28/100\n",
            "625/625 - 2s - loss: 0.0272 - accuracy: 0.9925 - val_loss: 1.0255 - val_accuracy: 0.8137 - 2s/epoch - 3ms/step\n",
            "Epoch 29/100\n",
            "625/625 - 2s - loss: 0.0261 - accuracy: 0.9919 - val_loss: 1.0661 - val_accuracy: 0.8120 - 2s/epoch - 3ms/step\n",
            "Epoch 30/100\n",
            "625/625 - 2s - loss: 0.0218 - accuracy: 0.9944 - val_loss: 1.1208 - val_accuracy: 0.8111 - 2s/epoch - 3ms/step\n",
            "Epoch 31/100\n",
            "625/625 - 2s - loss: 0.0201 - accuracy: 0.9942 - val_loss: 1.1473 - val_accuracy: 0.8085 - 2s/epoch - 3ms/step\n",
            "Epoch 32/100\n",
            "625/625 - 2s - loss: 0.0202 - accuracy: 0.9941 - val_loss: 1.1954 - val_accuracy: 0.8106 - 2s/epoch - 3ms/step\n",
            "Epoch 33/100\n",
            "625/625 - 2s - loss: 0.0184 - accuracy: 0.9948 - val_loss: 1.2042 - val_accuracy: 0.8076 - 2s/epoch - 3ms/step\n",
            "Epoch 34/100\n",
            "625/625 - 2s - loss: 0.0174 - accuracy: 0.9953 - val_loss: 1.2436 - val_accuracy: 0.8080 - 2s/epoch - 3ms/step\n",
            "Epoch 35/100\n",
            "625/625 - 2s - loss: 0.0159 - accuracy: 0.9954 - val_loss: 1.3352 - val_accuracy: 0.8082 - 2s/epoch - 3ms/step\n",
            "Epoch 36/100\n",
            "625/625 - 2s - loss: 0.0149 - accuracy: 0.9961 - val_loss: 1.3129 - val_accuracy: 0.8062 - 2s/epoch - 3ms/step\n",
            "Epoch 37/100\n",
            "625/625 - 2s - loss: 0.0128 - accuracy: 0.9967 - val_loss: 1.3460 - val_accuracy: 0.8065 - 2s/epoch - 3ms/step\n",
            "Epoch 38/100\n",
            "625/625 - 2s - loss: 0.0115 - accuracy: 0.9972 - val_loss: 1.4014 - val_accuracy: 0.8053 - 2s/epoch - 3ms/step\n",
            "Epoch 39/100\n",
            "625/625 - 2s - loss: 0.0120 - accuracy: 0.9972 - val_loss: 1.4297 - val_accuracy: 0.8052 - 2s/epoch - 3ms/step\n",
            "Epoch 40/100\n",
            "625/625 - 2s - loss: 0.0122 - accuracy: 0.9969 - val_loss: 1.4581 - val_accuracy: 0.8044 - 2s/epoch - 3ms/step\n",
            "Epoch 41/100\n",
            "625/625 - 2s - loss: 0.0113 - accuracy: 0.9966 - val_loss: 1.4947 - val_accuracy: 0.8053 - 2s/epoch - 3ms/step\n",
            "Epoch 42/100\n",
            "625/625 - 3s - loss: 0.0113 - accuracy: 0.9965 - val_loss: 1.5848 - val_accuracy: 0.8043 - 3s/epoch - 4ms/step\n",
            "Epoch 43/100\n",
            "625/625 - 2s - loss: 0.0093 - accuracy: 0.9973 - val_loss: 1.5926 - val_accuracy: 0.8047 - 2s/epoch - 4ms/step\n",
            "Epoch 44/100\n",
            "625/625 - 2s - loss: 0.0099 - accuracy: 0.9970 - val_loss: 1.7329 - val_accuracy: 0.8016 - 2s/epoch - 3ms/step\n",
            "Epoch 45/100\n",
            "625/625 - 2s - loss: 0.0096 - accuracy: 0.9969 - val_loss: 1.6713 - val_accuracy: 0.8041 - 2s/epoch - 3ms/step\n",
            "Epoch 46/100\n",
            "625/625 - 2s - loss: 0.0083 - accuracy: 0.9979 - val_loss: 1.7204 - val_accuracy: 0.8041 - 2s/epoch - 3ms/step\n",
            "Epoch 47/100\n",
            "625/625 - 2s - loss: 0.0068 - accuracy: 0.9980 - val_loss: 1.7364 - val_accuracy: 0.8024 - 2s/epoch - 3ms/step\n",
            "Epoch 48/100\n",
            "625/625 - 2s - loss: 0.0085 - accuracy: 0.9975 - val_loss: 1.8051 - val_accuracy: 0.8049 - 2s/epoch - 3ms/step\n",
            "Epoch 49/100\n",
            "625/625 - 2s - loss: 0.0093 - accuracy: 0.9973 - val_loss: 1.8722 - val_accuracy: 0.8040 - 2s/epoch - 3ms/step\n",
            "Epoch 50/100\n",
            "625/625 - 2s - loss: 0.0074 - accuracy: 0.9983 - val_loss: 1.8679 - val_accuracy: 0.8064 - 2s/epoch - 3ms/step\n",
            "Epoch 51/100\n",
            "625/625 - 2s - loss: 0.0062 - accuracy: 0.9981 - val_loss: 1.9011 - val_accuracy: 0.7979 - 2s/epoch - 3ms/step\n",
            "Epoch 52/100\n",
            "625/625 - 2s - loss: 0.0069 - accuracy: 0.9980 - val_loss: 1.9648 - val_accuracy: 0.8037 - 2s/epoch - 3ms/step\n",
            "Epoch 53/100\n",
            "625/625 - 2s - loss: 0.0061 - accuracy: 0.9984 - val_loss: 1.9856 - val_accuracy: 0.8038 - 2s/epoch - 3ms/step\n",
            "Epoch 54/100\n",
            "625/625 - 2s - loss: 0.0050 - accuracy: 0.9985 - val_loss: 2.0846 - val_accuracy: 0.8016 - 2s/epoch - 3ms/step\n",
            "Epoch 55/100\n",
            "625/625 - 2s - loss: 0.0059 - accuracy: 0.9983 - val_loss: 2.0392 - val_accuracy: 0.8035 - 2s/epoch - 3ms/step\n",
            "Epoch 56/100\n",
            "625/625 - 2s - loss: 0.0083 - accuracy: 0.9975 - val_loss: 2.0581 - val_accuracy: 0.8031 - 2s/epoch - 3ms/step\n",
            "Epoch 57/100\n",
            "625/625 - 2s - loss: 0.0046 - accuracy: 0.9987 - val_loss: 2.1171 - val_accuracy: 0.8024 - 2s/epoch - 3ms/step\n",
            "Epoch 58/100\n",
            "625/625 - 2s - loss: 0.0045 - accuracy: 0.9987 - val_loss: 2.1334 - val_accuracy: 0.8040 - 2s/epoch - 3ms/step\n",
            "Epoch 59/100\n",
            "625/625 - 2s - loss: 0.0054 - accuracy: 0.9984 - val_loss: 2.1635 - val_accuracy: 0.7997 - 2s/epoch - 3ms/step\n",
            "Epoch 60/100\n",
            "625/625 - 2s - loss: 0.0049 - accuracy: 0.9984 - val_loss: 2.2026 - val_accuracy: 0.8009 - 2s/epoch - 3ms/step\n",
            "Epoch 61/100\n",
            "625/625 - 2s - loss: 0.0063 - accuracy: 0.9981 - val_loss: 2.3876 - val_accuracy: 0.7970 - 2s/epoch - 3ms/step\n",
            "Epoch 62/100\n",
            "625/625 - 2s - loss: 0.0054 - accuracy: 0.9981 - val_loss: 2.3027 - val_accuracy: 0.8022 - 2s/epoch - 3ms/step\n",
            "Epoch 63/100\n",
            "625/625 - 2s - loss: 0.0044 - accuracy: 0.9984 - val_loss: 2.2547 - val_accuracy: 0.8028 - 2s/epoch - 3ms/step\n",
            "Epoch 64/100\n",
            "625/625 - 2s - loss: 0.0042 - accuracy: 0.9987 - val_loss: 2.3259 - val_accuracy: 0.8030 - 2s/epoch - 3ms/step\n",
            "Epoch 65/100\n",
            "625/625 - 2s - loss: 0.0037 - accuracy: 0.9990 - val_loss: 2.3554 - val_accuracy: 0.8034 - 2s/epoch - 3ms/step\n",
            "Epoch 66/100\n",
            "625/625 - 2s - loss: 0.0043 - accuracy: 0.9987 - val_loss: 2.3489 - val_accuracy: 0.8027 - 2s/epoch - 3ms/step\n",
            "Epoch 67/100\n",
            "625/625 - 2s - loss: 0.0039 - accuracy: 0.9986 - val_loss: 2.3611 - val_accuracy: 0.7967 - 2s/epoch - 3ms/step\n",
            "Epoch 68/100\n",
            "625/625 - 2s - loss: 0.0054 - accuracy: 0.9983 - val_loss: 2.5245 - val_accuracy: 0.8003 - 2s/epoch - 3ms/step\n",
            "Epoch 69/100\n",
            "625/625 - 2s - loss: 0.0038 - accuracy: 0.9987 - val_loss: 2.4055 - val_accuracy: 0.8037 - 2s/epoch - 3ms/step\n",
            "Epoch 70/100\n",
            "625/625 - 2s - loss: 0.0040 - accuracy: 0.9984 - val_loss: 2.4570 - val_accuracy: 0.8038 - 2s/epoch - 3ms/step\n",
            "Epoch 71/100\n",
            "625/625 - 2s - loss: 0.0041 - accuracy: 0.9984 - val_loss: 2.4640 - val_accuracy: 0.8018 - 2s/epoch - 3ms/step\n",
            "Epoch 72/100\n",
            "625/625 - 2s - loss: 0.0038 - accuracy: 0.9986 - val_loss: 2.4795 - val_accuracy: 0.8044 - 2s/epoch - 3ms/step\n",
            "Epoch 73/100\n",
            "625/625 - 2s - loss: 0.0035 - accuracy: 0.9990 - val_loss: 2.5692 - val_accuracy: 0.8028 - 2s/epoch - 3ms/step\n",
            "Epoch 74/100\n",
            "625/625 - 2s - loss: 0.0033 - accuracy: 0.9990 - val_loss: 2.4959 - val_accuracy: 0.7965 - 2s/epoch - 3ms/step\n",
            "Epoch 75/100\n",
            "625/625 - 2s - loss: 0.0054 - accuracy: 0.9984 - val_loss: 2.5146 - val_accuracy: 0.8021 - 2s/epoch - 3ms/step\n",
            "Epoch 76/100\n",
            "625/625 - 2s - loss: 0.0049 - accuracy: 0.9984 - val_loss: 3.0925 - val_accuracy: 0.7876 - 2s/epoch - 3ms/step\n",
            "Epoch 77/100\n",
            "625/625 - 2s - loss: 0.0073 - accuracy: 0.9978 - val_loss: 2.5658 - val_accuracy: 0.8030 - 2s/epoch - 3ms/step\n",
            "Epoch 78/100\n",
            "625/625 - 2s - loss: 0.0025 - accuracy: 0.9992 - val_loss: 2.5405 - val_accuracy: 0.8016 - 2s/epoch - 3ms/step\n",
            "Epoch 79/100\n",
            "625/625 - 2s - loss: 0.0032 - accuracy: 0.9988 - val_loss: 2.6391 - val_accuracy: 0.8019 - 2s/epoch - 3ms/step\n",
            "Epoch 80/100\n",
            "625/625 - 2s - loss: 0.0069 - accuracy: 0.9976 - val_loss: 2.5430 - val_accuracy: 0.8001 - 2s/epoch - 3ms/step\n",
            "Epoch 81/100\n",
            "625/625 - 2s - loss: 0.0029 - accuracy: 0.9992 - val_loss: 2.5835 - val_accuracy: 0.8025 - 2s/epoch - 3ms/step\n",
            "Epoch 82/100\n",
            "625/625 - 2s - loss: 0.0020 - accuracy: 0.9994 - val_loss: 2.5900 - val_accuracy: 0.8016 - 2s/epoch - 3ms/step\n",
            "Epoch 83/100\n",
            "625/625 - 2s - loss: 0.0030 - accuracy: 0.9992 - val_loss: 2.6166 - val_accuracy: 0.7991 - 2s/epoch - 3ms/step\n",
            "Epoch 84/100\n",
            "625/625 - 2s - loss: 0.0050 - accuracy: 0.9983 - val_loss: 2.5935 - val_accuracy: 0.8028 - 2s/epoch - 3ms/step\n",
            "Epoch 85/100\n",
            "625/625 - 2s - loss: 0.0051 - accuracy: 0.9980 - val_loss: 2.6085 - val_accuracy: 0.8015 - 2s/epoch - 3ms/step\n",
            "Epoch 86/100\n",
            "625/625 - 2s - loss: 0.0029 - accuracy: 0.9991 - val_loss: 2.6568 - val_accuracy: 0.8035 - 2s/epoch - 3ms/step\n",
            "Epoch 87/100\n",
            "625/625 - 2s - loss: 0.0021 - accuracy: 0.9992 - val_loss: 2.7481 - val_accuracy: 0.8018 - 2s/epoch - 3ms/step\n",
            "Epoch 88/100\n",
            "625/625 - 2s - loss: 0.0042 - accuracy: 0.9984 - val_loss: 2.7001 - val_accuracy: 0.7995 - 2s/epoch - 3ms/step\n",
            "Epoch 89/100\n",
            "625/625 - 2s - loss: 0.0036 - accuracy: 0.9989 - val_loss: 2.7664 - val_accuracy: 0.8003 - 2s/epoch - 3ms/step\n",
            "Epoch 90/100\n",
            "625/625 - 2s - loss: 0.0038 - accuracy: 0.9985 - val_loss: 2.7055 - val_accuracy: 0.7921 - 2s/epoch - 3ms/step\n",
            "Epoch 91/100\n",
            "625/625 - 2s - loss: 0.0044 - accuracy: 0.9985 - val_loss: 2.7258 - val_accuracy: 0.8006 - 2s/epoch - 3ms/step\n",
            "Epoch 92/100\n",
            "625/625 - 2s - loss: 0.0023 - accuracy: 0.9994 - val_loss: 2.7156 - val_accuracy: 0.7974 - 2s/epoch - 3ms/step\n",
            "Epoch 93/100\n",
            "625/625 - 2s - loss: 0.0034 - accuracy: 0.9990 - val_loss: 2.7565 - val_accuracy: 0.7992 - 2s/epoch - 3ms/step\n",
            "Epoch 94/100\n",
            "625/625 - 2s - loss: 0.0035 - accuracy: 0.9990 - val_loss: 2.7571 - val_accuracy: 0.7988 - 2s/epoch - 3ms/step\n",
            "Epoch 95/100\n",
            "625/625 - 2s - loss: 0.0044 - accuracy: 0.9984 - val_loss: 2.7684 - val_accuracy: 0.7974 - 2s/epoch - 3ms/step\n",
            "Epoch 96/100\n",
            "625/625 - 2s - loss: 0.0033 - accuracy: 0.9991 - val_loss: 2.9094 - val_accuracy: 0.7958 - 2s/epoch - 3ms/step\n",
            "Epoch 97/100\n",
            "625/625 - 2s - loss: 0.0037 - accuracy: 0.9990 - val_loss: 2.8006 - val_accuracy: 0.8015 - 2s/epoch - 3ms/step\n",
            "Epoch 98/100\n",
            "625/625 - 2s - loss: 0.0029 - accuracy: 0.9990 - val_loss: 2.8532 - val_accuracy: 0.7995 - 2s/epoch - 3ms/step\n",
            "Epoch 99/100\n",
            "625/625 - 2s - loss: 0.0036 - accuracy: 0.9987 - val_loss: 2.8860 - val_accuracy: 0.7988 - 2s/epoch - 3ms/step\n",
            "Epoch 100/100\n",
            "625/625 - 2s - loss: 0.0026 - accuracy: 0.9993 - val_loss: 2.8639 - val_accuracy: 0.8000 - 2s/epoch - 3ms/step\n"
          ]
        }
      ]
    },
    {
      "cell_type": "code",
      "source": [
        "import matplotlib.pyplot as plt\n",
        "\n",
        "\n",
        "def plot_graphs(history, string):\n",
        "    plt.plot(history.history[string])\n",
        "    plt.plot(history.history['val_'+string])\n",
        "    plt.xlabel(\"Epochs\")\n",
        "    plt.ylabel(string)\n",
        "    plt.legend([string, 'val_'+string])\n",
        "    plt.show()\n",
        "\n",
        "plot_graphs(history, \"accuracy\")\n",
        "plot_graphs(history, \"loss\")"
      ],
      "metadata": {
        "colab": {
          "base_uri": "https://localhost:8080/",
          "height": 541
        },
        "id": "wqD7Cx96v9ZF",
        "outputId": "5736c254-eb5a-4d2e-de6a-f3e01ed5ae89"
      },
      "execution_count": 50,
      "outputs": [
        {
          "output_type": "display_data",
          "data": {
            "text/plain": [
              "<Figure size 432x288 with 1 Axes>"
            ],
            "image/png": "[encoded data removed]"
          },
          "metadata": {
            "needs_background": "light"
          }
        },
        {
          "output_type": "display_data",
          "data": {
            "text/plain": [
              "<Figure size 432x288 with 1 Axes>"
            ],
            "image/png": "[encoded data removed]"
          },
          "metadata": {
            "needs_background": "light"
          }
        }
      ]
    },
    {
      "cell_type": "code",
      "source": [
        "reverse_word_index = dict([(value, key) for (key, value) in word_index.items()])\n",
        "\n",
        "def decode_sentence(text):\n",
        "    return ' '.join([reverse_word_index.get(i, '?') for i in text])\n",
        "\n",
        "print(decode_sentence(training_padded[0]))\n",
        "print(training_sentences[2])\n",
        "print(labels[2])"
      ],
      "metadata": {
        "colab": {
          "base_uri": "https://localhost:8080/"
        },
        "id": "BUsH-tZpwDh3",
        "outputId": "fbad5e7c-7692-43ed-f92e-f3b163674cd9"
      },
      "execution_count": 51,
      "outputs": [
        {
          "output_type": "stream",
          "name": "stdout",
          "text": [
            "former <OOV> store clerk sues over secret 'black <OOV> for minority shoppers ? ? ? ? ? ? ? ? ? ? ? ? ? ? ? ? ? ? ? ? ? ? ? ? ? ? ? ? ? ? ? ? ? ? ? ? ? ? ? ? ? ? ? ? ? ? ? ? ? ? ? ? ? ? ? ? ? ? ? ? ? ? ? ? ? ? ? ? ? ? ? ? ? ? ? ? ? ? ? ? ? ? ? ? ? ? ? ?\n",
            "mom starting to fear son's web series closest thing she will have to grandchild\n",
            "1\n"
          ]
        }
      ]
    },
    {
      "cell_type": "code",
      "source": [
        "e = model.layers[0]\n",
        "weights = e.get_weights()[0]\n",
        "print(weights.shape) # shape: (vocab_size, embedding_dim)"
      ],
      "metadata": {
        "colab": {
          "base_uri": "https://localhost:8080/"
        },
        "id": "2ivDcV63wDkX",
        "outputId": "cbcefea0-0fd7-4818-d556-e0504bd44d0c"
      },
      "execution_count": 52,
      "outputs": [
        {
          "output_type": "stream",
          "name": "stdout",
          "text": [
            "(10000, 16)\n"
          ]
        }
      ]
    },
    {
      "cell_type": "code",
      "source": [
        "sentence = [\"granny starting to fear spiders in the garden might be real\", \"game of thrones season finale showing this sunday night\"]\n",
        "sequences = tokenizer.texts_to_sequences(sentence)\n",
        "padded = pad_sequences(sequences, maxlen=max_length, padding=padding_type, truncating=trunc_type)\n",
        "print(model.predict(padded))"
      ],
      "metadata": {
        "colab": {
          "base_uri": "https://localhost:8080/"
        },
        "id": "CeKA7EBswDn2",
        "outputId": "5fbb0d8e-a697-451b-9f7e-b3416390d601"
      },
      "execution_count": 53,
      "outputs": [
        {
          "output_type": "stream",
          "name": "stdout",
          "text": [
            "[[9.9997294e-01]\n",
            " [1.5425896e-14]]\n"
          ]
        }
      ]
    },
    {
      "cell_type": "code",
      "source": [
        "from sklearn.metrics import confusion_matrix\n",
        "from sklearn.metrics import precision_score, recall_score, f1_score, accuracy_score\n",
        "import matplotlib.pyplot as plt"
      ],
      "metadata": {
        "id": "jFGTl6AExOtu"
      },
      "execution_count": 54,
      "outputs": []
    },
    {
      "cell_type": "code",
      "source": [
        "y_pred=model.predict(testing_padded)\n",
        "y_pred = y_pred > 0.5"
      ],
      "metadata": {
        "id": "xMtLlWMLC72t"
      },
      "execution_count": 69,
      "outputs": []
    },
    {
      "cell_type": "code",
      "source": [
        "conf_matrix = confusion_matrix(y_true=testing_labels, y_pred=y_pred)\n"
      ],
      "metadata": {
        "id": "kcTYwbNyDXcf"
      },
      "execution_count": 71,
      "outputs": []
    },
    {
      "cell_type": "code",
      "source": [
        "#Print the confusion Matrix\n",
        "fig, ax = plt.subplots(figsize=(5, 5))\n",
        "ax.matshow(conf_matrix, cmap=plt.cm.Oranges, alpha=0.3)\n",
        "for i in range(conf_matrix.shape[0]):\n",
        "    for j in range(conf_matrix.shape[1]):\n",
        "        ax.text(x=j, y=i,s=conf_matrix[i, j], va='center', ha='center', size='xx-large')\n",
        " \n",
        "plt.xlabel('Predictions', fontsize=18)\n",
        "plt.ylabel('Actuals', fontsize=18)\n",
        "plt.title('Confusion Matrix', fontsize=18)\n",
        "plt.show()"
      ],
      "metadata": {
        "colab": {
          "base_uri": "https://localhost:8080/",
          "height": 358
        },
        "id": "I5K6RYlDGbIs",
        "outputId": "1cb3ceb8-e132-4868-fc8a-8b82362a1d61"
      },
      "execution_count": 72,
      "outputs": [
        {
          "output_type": "display_data",
          "data": {
            "text/plain": [
              "<Figure size 360x360 with 1 Axes>"
            ],
            "image/png": "[encoded data removed]"
          },
          "metadata": {
            "needs_background": "light"
          }
        }
      ]
    },
    {
      "cell_type": "code",
      "source": [
        "#F1 score\n",
        "print('F1 Score: %.3f' % f1_score(testing_labels, y_pred))\n"
      ],
      "metadata": {
        "colab": {
          "base_uri": "https://localhost:8080/"
        },
        "id": "X3CxdWzeGynb",
        "outputId": "afe99b88-2a58-47c0-c995-7b58d615ebc3"
      },
      "execution_count": 73,
      "outputs": [
        {
          "output_type": "stream",
          "name": "stdout",
          "text": [
            "F1 Score: 0.766\n"
          ]
        }
      ]
    },
    {
      "cell_type": "code",
      "source": [],
      "metadata": {
        "id": "31NYpYwaHDW2"
      },
      "execution_count": null,
      "outputs": []
    }
  ]
}